{
 "cells": [
  {
   "metadata": {
    "ExecuteTime": {
     "end_time": "2025-07-14T12:15:20.909888Z",
     "start_time": "2025-07-14T12:15:20.903465Z"
    }
   },
   "cell_type": "code",
   "source": "",
   "id": "55b2b687529d1e41",
   "outputs": [],
   "execution_count": null
  },
  {
   "metadata": {
    "ExecuteTime": {
     "end_time": "2025-07-14T12:15:21.267873Z",
     "start_time": "2025-07-14T12:15:20.968402Z"
    }
   },
   "cell_type": "code",
   "source": [
    "import pandas as pd\n",
    "import numpy as np\n",
    "import matplotlib.pyplot as plt\n",
    "from sklearn.model_selection import (train_test_split, StratifiedKFold,\n",
    "                                     cross_val_score)\n",
    "from sklearn.linear_model import LogisticRegression\n",
    "from sklearn.tree import DecisionTreeClassifier\n",
    "from sklearn.pipeline import Pipeline\n",
    "from sklearn.metrics import precision_score, roc_auc_score, classification_report\n",
    "from sklearn.utils import resample\n",
    "from joblib import dump\n",
    "\n",
    "# Load cleaned data\n",
    "df = pd.read_csv('../data/clean/clean_deposits.csv')\n",
    "\n",
    "# Create target: top 10% by rate\n",
    "df['is_recommend'] = (df['rate'] >= df['rate'].quantile(0.9)).astype(int)\n",
    "\n",
    "# Features\n",
    "features = ['rate', 'term_months', 'min_amount', 'risk_level', 'goal_accumulation']\n",
    "X = df[features]\n",
    "y = df['is_recommend']\n",
    "\n",
    "# ===== Stratified K-Fold Cross Validation =====\n",
    "print('Cross-Validation Precision Scores:')\n",
    "cv = StratifiedKFold(n_splits=5, shuffle=True, random_state=42)\n",
    "for name, model in [('LogisticRegression', LogisticRegression(class_weight='balanced', max_iter=1000)),\n",
    "                    ('DecisionTree', DecisionTreeClassifier(max_depth=3, class_weight='balanced', random_state=42))]:\n",
    "    scores = cross_val_score(model, X, y, cv=cv, scoring='precision')\n",
    "    print(f\"{name}: mean={scores.mean():.3f}, std={scores.std():.3f}\")\n",
    "\n",
    "# ===== Bootstrap Evaluation =====n\n",
    "print('\\nBootstrap Evaluation (DecisionTree):')\n",
    "boot_precisions = []\n",
    "for i in range(100):\n",
    "    X_samp, y_samp = resample(X, y, stratify=y, random_state=i)\n",
    "    model = DecisionTreeClassifier(max_depth=3, class_weight='balanced', random_state=42)\n",
    "    model.fit(X_samp, y_samp)\n",
    "    p = precision_score(y_samp, model.predict(X_samp))\n",
    "    boot_precisions.append(p)\n",
    "print(f\"Bootstrap mean precision={np.mean(boot_precisions):.3f}, std={np.std(boot_precisions):.3f}\")\n",
    "\n",
    "# ===== Threshold Tuning for Logistic Regression =====n\n",
    "print('\\nThreshold Tuning (LogisticRegression):')\n",
    "X_train, X_test, y_train, y_test = train_test_split(\n",
    "    X, y, test_size=0.2, random_state=42, stratify=y\n",
    ")\n",
    "logreg = LogisticRegression(class_weight='balanced', max_iter=1000)\n",
    "logreg.fit(X_train, y_train)\n",
    "proba = logreg.predict_proba(X_test)[:,1]\n",
    "best_thr, best_prec = 0.5, 0\n",
    "for thr in np.linspace(0.1, 0.9, 9):\n",
    "    preds = (proba >= thr).astype(int)\n",
    "    p = precision_score(y_test, preds)\n",
    "    if p > best_prec:\n",
    "        best_prec, best_thr = p, thr\n",
    "print(f\"Best threshold={best_thr:.2f}, precision={best_prec:.3f}\")\n",
    "\n",
    "# ===== Final Model Pipeline and Save =====\n",
    "import os\n",
    "# Ensure models directory exists\n",
    "os.makedirs('models', exist_ok=True)\n",
    "\n",
    "print('\\nTraining final DecisionTree pipeline and saving...')\n",
    "pipe = Pipeline([\n",
    "    ('clf', DecisionTreeClassifier(max_depth=3, class_weight='balanced', random_state=42))\n",
    "])\n",
    "pipe.fit(X_train, y_train)\n",
    "dump(pipe, 'models/decision_tree_rec.joblib')\n",
    "print('Model saved to models/decision_tree_rec.joblib')"
   ],
   "id": "c948347013f654d6",
   "outputs": [
    {
     "name": "stdout",
     "output_type": "stream",
     "text": [
      "Cross-Validation Precision Scores:\n",
      "LogisticRegression: mean=0.783, std=0.296\n",
      "DecisionTree: mean=1.000, std=0.000\n",
      "\n",
      "Bootstrap Evaluation (DecisionTree):\n",
      "Bootstrap mean precision=1.000, std=0.000\n",
      "\n",
      "Threshold Tuning (LogisticRegression):\n",
      "Best threshold=0.20, precision=1.000\n",
      "\n",
      "Training final DecisionTree pipeline and saving...\n",
      "Model saved to models/decision_tree_rec.joblib\n"
     ]
    }
   ],
   "execution_count": 26
  },
  {
   "metadata": {
    "ExecuteTime": {
     "end_time": "2025-07-14T12:15:21.272009Z",
     "start_time": "2025-07-14T12:15:21.270573Z"
    }
   },
   "cell_type": "code",
   "source": "",
   "id": "511db072e2e926e1",
   "outputs": [],
   "execution_count": null
  }
 ],
 "metadata": {
  "kernelspec": {
   "name": "python3",
   "language": "python",
   "display_name": "Python 3 (ipykernel)"
  }
 },
 "nbformat": 5,
 "nbformat_minor": 9
}
